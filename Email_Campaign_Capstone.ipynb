{
  "nbformat": 4,
  "nbformat_minor": 0,
  "metadata": {
    "colab": {
      "provenance": [],
      "collapsed_sections": [],
      "authorship_tag": "ABX9TyNNodbxJI3kjtbOtEZAkfLc",
      "include_colab_link": true
    },
    "kernelspec": {
      "name": "python3",
      "display_name": "Python 3"
    },
    "language_info": {
      "name": "python"
    }
  },
  "cells": [
    {
      "cell_type": "markdown",
      "metadata": {
        "id": "view-in-github",
        "colab_type": "text"
      },
      "source": [
        "<a href=\"https://colab.research.google.com/github/Dany511/Email-Campaign-Effectiveness-Prediction/blob/main/Email_Campaign_Capstone.ipynb\" target=\"_parent\"><img src=\"https://colab.research.google.com/assets/colab-badge.svg\" alt=\"Open In Colab\"/></a>"
      ]
    },
    {
      "cell_type": "markdown",
      "metadata": {
        "id": "9a-plZ3EUW3H"
      },
      "source": [
        "# <b><u> Project Title : Email Campaign Effectiveness Prediction </u></b>"
      ]
    },
    {
      "cell_type": "markdown",
      "metadata": {
        "id": "cyubs_GWwR1S"
      },
      "source": [
        "## <b> Problem Description </b>\n",
        "\n",
        "### Most of the small to medium business owners are making effective use of Gmail-based Email marketing Strategies for offline targeting of converting their prospective customers into leads so that they stay with them in Business.The main objective is to create a machine learning model to characterize the mail and track the mail that is ignored; read; acknowledged by the reader.\n"
      ]
    },
    {
      "cell_type": "markdown",
      "metadata": {
        "id": "UVn7EVtda8Y1"
      },
      "source": [
        "## <b> Introduction </b>\n",
        "\n",
        "### Email marketing is a type of direct marketing that uses personalized emails to educate your email list about your product or services. An email marketing campaign is a scheduled series of emails used to nurture leads and current customers with the purpose of encouraging engagement and increasing sales. Each individual email leads to a specific call-to-action, i.e. getting users to sign up, book a call, continue reading, or add a product to their cart.\n",
        "\n",
        "### Email marketing involves segmenting your target audience based on their likes and preferences to share personalized content with them. This makes them feel valued and important through personalized subject content like subject lines. Through email marketing, you will be able to increase your conversion rate. Over 65% of email users have shared that they have made a purchase through email through their phones or desktop as they found that the message was compelling. \n",
        "\n",
        "### In this problem statement, we will be trying to create machine learning models that characterize and track whether the mail is ignored, read or acknowledged by the reader.\n",
        "\n",
        "### So let's begin!"
      ]
    },
    {
      "cell_type": "markdown",
      "metadata": {
        "id": "bdsjyhN3N_XA"
      },
      "source": [
        "## **Import Libraries**"
      ]
    },
    {
      "cell_type": "code",
      "execution_count": 1,
      "metadata": {
        "id": "BePqvWMmAmoV"
      },
      "outputs": [],
      "source": [
        "#Importing all the necessary libraries\n",
        "import pandas as pd \n",
        "import numpy as np\n",
        "\n",
        "#Visualization libraries\n",
        "import matplotlib.pyplot as plt\n",
        "%matplotlib inline\n",
        "import seaborn as sns\n",
        "\n",
        "# Importing VIF(variance infalation factor) to check for multicollinearity\n",
        "from statsmodels.stats.outliers_influence import variance_inflation_factor\n",
        "\n",
        "# Importing train_test_split for splitting the data\n",
        "from sklearn.model_selection import train_test_split\n",
        "\n",
        "# Importing Grid Search and Randomized search for Hyperparameter Tuning\n",
        "from sklearn.model_selection import GridSearchCV,RandomizedSearchCV\n",
        "\n",
        "# Importing Metrics for model evaluation\n",
        "from sklearn import metrics\n",
        "from sklearn.metrics import confusion_matrix, precision_score,f1_score, recall_score,roc_curve, classification_report\n",
        "\n",
        "# To ignore warnings\n",
        "import warnings    \n",
        "warnings.filterwarnings('ignore')"
      ]
    },
    {
      "cell_type": "markdown",
      "metadata": {
        "id": "zmofZJ65OM3J"
      },
      "source": [
        "## **Load the Dataset**"
      ]
    },
    {
      "cell_type": "code",
      "execution_count": 2,
      "metadata": {
        "colab": {
          "base_uri": "https://localhost:8080/",
          "height": 270
        },
        "id": "thns6_qYAv2A",
        "outputId": "264b7423-0ade-4f48-9890-45321ada87c1"
      },
      "outputs": [
        {
          "output_type": "execute_result",
          "data": {
            "text/plain": [
              "            Email_ID  Email_Type  Subject_Hotness_Score  Email_Source_Type  \\\n",
              "0  EMA00081000034500           1                    2.2                  2   \n",
              "1  EMA00081000045360           2                    2.1                  1   \n",
              "2  EMA00081000066290           2                    0.1                  1   \n",
              "3  EMA00081000076560           1                    3.0                  2   \n",
              "4  EMA00081000109720           1                    0.0                  2   \n",
              "\n",
              "  Customer_Location  Email_Campaign_Type  Total_Past_Communications  \\\n",
              "0                 E                    2                       33.0   \n",
              "1               NaN                    2                       15.0   \n",
              "2                 B                    3                       36.0   \n",
              "3                 E                    2                       25.0   \n",
              "4                 C                    3                       18.0   \n",
              "\n",
              "   Time_Email_sent_Category  Word_Count  Total_Links  Total_Images  \\\n",
              "0                         1         440          8.0           0.0   \n",
              "1                         2         504          5.0           0.0   \n",
              "2                         2         962          5.0           0.0   \n",
              "3                         2         610         16.0           0.0   \n",
              "4                         2         947          4.0           0.0   \n",
              "\n",
              "   Email_Status  \n",
              "0             0  \n",
              "1             0  \n",
              "2             1  \n",
              "3             0  \n",
              "4             0  "
            ],
            "text/html": [
              "\n",
              "  <div id=\"df-b3a2b01b-d1e7-4762-95ac-f9d4634db693\">\n",
              "    <div class=\"colab-df-container\">\n",
              "      <div>\n",
              "<style scoped>\n",
              "    .dataframe tbody tr th:only-of-type {\n",
              "        vertical-align: middle;\n",
              "    }\n",
              "\n",
              "    .dataframe tbody tr th {\n",
              "        vertical-align: top;\n",
              "    }\n",
              "\n",
              "    .dataframe thead th {\n",
              "        text-align: right;\n",
              "    }\n",
              "</style>\n",
              "<table border=\"1\" class=\"dataframe\">\n",
              "  <thead>\n",
              "    <tr style=\"text-align: right;\">\n",
              "      <th></th>\n",
              "      <th>Email_ID</th>\n",
              "      <th>Email_Type</th>\n",
              "      <th>Subject_Hotness_Score</th>\n",
              "      <th>Email_Source_Type</th>\n",
              "      <th>Customer_Location</th>\n",
              "      <th>Email_Campaign_Type</th>\n",
              "      <th>Total_Past_Communications</th>\n",
              "      <th>Time_Email_sent_Category</th>\n",
              "      <th>Word_Count</th>\n",
              "      <th>Total_Links</th>\n",
              "      <th>Total_Images</th>\n",
              "      <th>Email_Status</th>\n",
              "    </tr>\n",
              "  </thead>\n",
              "  <tbody>\n",
              "    <tr>\n",
              "      <th>0</th>\n",
              "      <td>EMA00081000034500</td>\n",
              "      <td>1</td>\n",
              "      <td>2.2</td>\n",
              "      <td>2</td>\n",
              "      <td>E</td>\n",
              "      <td>2</td>\n",
              "      <td>33.0</td>\n",
              "      <td>1</td>\n",
              "      <td>440</td>\n",
              "      <td>8.0</td>\n",
              "      <td>0.0</td>\n",
              "      <td>0</td>\n",
              "    </tr>\n",
              "    <tr>\n",
              "      <th>1</th>\n",
              "      <td>EMA00081000045360</td>\n",
              "      <td>2</td>\n",
              "      <td>2.1</td>\n",
              "      <td>1</td>\n",
              "      <td>NaN</td>\n",
              "      <td>2</td>\n",
              "      <td>15.0</td>\n",
              "      <td>2</td>\n",
              "      <td>504</td>\n",
              "      <td>5.0</td>\n",
              "      <td>0.0</td>\n",
              "      <td>0</td>\n",
              "    </tr>\n",
              "    <tr>\n",
              "      <th>2</th>\n",
              "      <td>EMA00081000066290</td>\n",
              "      <td>2</td>\n",
              "      <td>0.1</td>\n",
              "      <td>1</td>\n",
              "      <td>B</td>\n",
              "      <td>3</td>\n",
              "      <td>36.0</td>\n",
              "      <td>2</td>\n",
              "      <td>962</td>\n",
              "      <td>5.0</td>\n",
              "      <td>0.0</td>\n",
              "      <td>1</td>\n",
              "    </tr>\n",
              "    <tr>\n",
              "      <th>3</th>\n",
              "      <td>EMA00081000076560</td>\n",
              "      <td>1</td>\n",
              "      <td>3.0</td>\n",
              "      <td>2</td>\n",
              "      <td>E</td>\n",
              "      <td>2</td>\n",
              "      <td>25.0</td>\n",
              "      <td>2</td>\n",
              "      <td>610</td>\n",
              "      <td>16.0</td>\n",
              "      <td>0.0</td>\n",
              "      <td>0</td>\n",
              "    </tr>\n",
              "    <tr>\n",
              "      <th>4</th>\n",
              "      <td>EMA00081000109720</td>\n",
              "      <td>1</td>\n",
              "      <td>0.0</td>\n",
              "      <td>2</td>\n",
              "      <td>C</td>\n",
              "      <td>3</td>\n",
              "      <td>18.0</td>\n",
              "      <td>2</td>\n",
              "      <td>947</td>\n",
              "      <td>4.0</td>\n",
              "      <td>0.0</td>\n",
              "      <td>0</td>\n",
              "    </tr>\n",
              "  </tbody>\n",
              "</table>\n",
              "</div>\n",
              "      <button class=\"colab-df-convert\" onclick=\"convertToInteractive('df-b3a2b01b-d1e7-4762-95ac-f9d4634db693')\"\n",
              "              title=\"Convert this dataframe to an interactive table.\"\n",
              "              style=\"display:none;\">\n",
              "        \n",
              "  <svg xmlns=\"http://www.w3.org/2000/svg\" height=\"24px\"viewBox=\"0 0 24 24\"\n",
              "       width=\"24px\">\n",
              "    <path d=\"M0 0h24v24H0V0z\" fill=\"none\"/>\n",
              "    <path d=\"M18.56 5.44l.94 2.06.94-2.06 2.06-.94-2.06-.94-.94-2.06-.94 2.06-2.06.94zm-11 1L8.5 8.5l.94-2.06 2.06-.94-2.06-.94L8.5 2.5l-.94 2.06-2.06.94zm10 10l.94 2.06.94-2.06 2.06-.94-2.06-.94-.94-2.06-.94 2.06-2.06.94z\"/><path d=\"M17.41 7.96l-1.37-1.37c-.4-.4-.92-.59-1.43-.59-.52 0-1.04.2-1.43.59L10.3 9.45l-7.72 7.72c-.78.78-.78 2.05 0 2.83L4 21.41c.39.39.9.59 1.41.59.51 0 1.02-.2 1.41-.59l7.78-7.78 2.81-2.81c.8-.78.8-2.07 0-2.86zM5.41 20L4 18.59l7.72-7.72 1.47 1.35L5.41 20z\"/>\n",
              "  </svg>\n",
              "      </button>\n",
              "      \n",
              "  <style>\n",
              "    .colab-df-container {\n",
              "      display:flex;\n",
              "      flex-wrap:wrap;\n",
              "      gap: 12px;\n",
              "    }\n",
              "\n",
              "    .colab-df-convert {\n",
              "      background-color: #E8F0FE;\n",
              "      border: none;\n",
              "      border-radius: 50%;\n",
              "      cursor: pointer;\n",
              "      display: none;\n",
              "      fill: #1967D2;\n",
              "      height: 32px;\n",
              "      padding: 0 0 0 0;\n",
              "      width: 32px;\n",
              "    }\n",
              "\n",
              "    .colab-df-convert:hover {\n",
              "      background-color: #E2EBFA;\n",
              "      box-shadow: 0px 1px 2px rgba(60, 64, 67, 0.3), 0px 1px 3px 1px rgba(60, 64, 67, 0.15);\n",
              "      fill: #174EA6;\n",
              "    }\n",
              "\n",
              "    [theme=dark] .colab-df-convert {\n",
              "      background-color: #3B4455;\n",
              "      fill: #D2E3FC;\n",
              "    }\n",
              "\n",
              "    [theme=dark] .colab-df-convert:hover {\n",
              "      background-color: #434B5C;\n",
              "      box-shadow: 0px 1px 3px 1px rgba(0, 0, 0, 0.15);\n",
              "      filter: drop-shadow(0px 1px 2px rgba(0, 0, 0, 0.3));\n",
              "      fill: #FFFFFF;\n",
              "    }\n",
              "  </style>\n",
              "\n",
              "      <script>\n",
              "        const buttonEl =\n",
              "          document.querySelector('#df-b3a2b01b-d1e7-4762-95ac-f9d4634db693 button.colab-df-convert');\n",
              "        buttonEl.style.display =\n",
              "          google.colab.kernel.accessAllowed ? 'block' : 'none';\n",
              "\n",
              "        async function convertToInteractive(key) {\n",
              "          const element = document.querySelector('#df-b3a2b01b-d1e7-4762-95ac-f9d4634db693');\n",
              "          const dataTable =\n",
              "            await google.colab.kernel.invokeFunction('convertToInteractive',\n",
              "                                                     [key], {});\n",
              "          if (!dataTable) return;\n",
              "\n",
              "          const docLinkHtml = 'Like what you see? Visit the ' +\n",
              "            '<a target=\"_blank\" href=https://colab.research.google.com/notebooks/data_table.ipynb>data table notebook</a>'\n",
              "            + ' to learn more about interactive tables.';\n",
              "          element.innerHTML = '';\n",
              "          dataTable['output_type'] = 'display_data';\n",
              "          await google.colab.output.renderOutput(dataTable, element);\n",
              "          const docLink = document.createElement('div');\n",
              "          docLink.innerHTML = docLinkHtml;\n",
              "          element.appendChild(docLink);\n",
              "        }\n",
              "      </script>\n",
              "    </div>\n",
              "  </div>\n",
              "  "
            ]
          },
          "metadata": {},
          "execution_count": 2
        }
      ],
      "source": [
        "# Loading the dataset using pandas read_csv.\n",
        "data=pd.read_csv(\"/content/data_email_campaign.csv\")\n",
        "# .head() function gives the preview of the data\n",
        "data.head()"
      ]
    },
    {
      "cell_type": "code",
      "execution_count": 3,
      "metadata": {
        "colab": {
          "base_uri": "https://localhost:8080/"
        },
        "id": "QNgH3IpaORhN",
        "outputId": "80d2d950-4188-4a51-f9c3-108e9d3590dd"
      },
      "outputs": [
        {
          "output_type": "execute_result",
          "data": {
            "text/plain": [
              "(68353, 12)"
            ]
          },
          "metadata": {},
          "execution_count": 3
        }
      ],
      "source": [
        "# Data shape\n",
        "data.shape"
      ]
    },
    {
      "cell_type": "code",
      "execution_count": 4,
      "metadata": {
        "colab": {
          "base_uri": "https://localhost:8080/"
        },
        "id": "cjAJSuRUA-Mb",
        "outputId": "9d8d39ca-3873-46e0-939c-94a5bc4d6c71"
      },
      "outputs": [
        {
          "output_type": "stream",
          "name": "stdout",
          "text": [
            "<class 'pandas.core.frame.DataFrame'>\n",
            "RangeIndex: 68353 entries, 0 to 68352\n",
            "Data columns (total 12 columns):\n",
            " #   Column                     Non-Null Count  Dtype  \n",
            "---  ------                     --------------  -----  \n",
            " 0   Email_ID                   68353 non-null  object \n",
            " 1   Email_Type                 68353 non-null  int64  \n",
            " 2   Subject_Hotness_Score      68353 non-null  float64\n",
            " 3   Email_Source_Type          68353 non-null  int64  \n",
            " 4   Customer_Location          56758 non-null  object \n",
            " 5   Email_Campaign_Type        68353 non-null  int64  \n",
            " 6   Total_Past_Communications  61528 non-null  float64\n",
            " 7   Time_Email_sent_Category   68353 non-null  int64  \n",
            " 8   Word_Count                 68353 non-null  int64  \n",
            " 9   Total_Links                66152 non-null  float64\n",
            " 10  Total_Images               66676 non-null  float64\n",
            " 11  Email_Status               68353 non-null  int64  \n",
            "dtypes: float64(4), int64(6), object(2)\n",
            "memory usage: 6.3+ MB\n"
          ]
        }
      ],
      "source": [
        "# The info() method prints information about the DataFrame. The information contains the number of columns, column labels, column data types, memory usage, range index, and the number of cells in each column (non-null values).\n",
        "data.info()"
      ]
    },
    {
      "cell_type": "markdown",
      "metadata": {
        "id": "tSmVQRHrOzfS"
      },
      "source": [
        "### There are 5 Numerical and 6 Categorical variables in the dataset"
      ]
    },
    {
      "cell_type": "code",
      "execution_count": 5,
      "metadata": {
        "id": "1xEwoqIzBAIL"
      },
      "outputs": [],
      "source": [
        "# Copying the dataset to a dataframe named df.\n",
        "df=data.copy()"
      ]
    },
    {
      "cell_type": "code",
      "execution_count": 6,
      "metadata": {
        "id": "d5thCuwsBIfZ"
      },
      "outputs": [],
      "source": [
        "# Dropping the 'Email_ID' column because it is not useful in model building\n",
        "df=df.drop(\"Email_ID\",axis=1)"
      ]
    },
    {
      "cell_type": "code",
      "execution_count": 7,
      "metadata": {
        "colab": {
          "base_uri": "https://localhost:8080/",
          "height": 438
        },
        "id": "OvbhI08VBVoy",
        "outputId": "b3c0838f-37d2-4c7c-8f7e-5260f2aaa866"
      },
      "outputs": [
        {
          "output_type": "execute_result",
          "data": {
            "text/plain": [
              "          Email_Type  Subject_Hotness_Score  Email_Source_Type  \\\n",
              "count   68353.000000           68353.000000       68353.000000   \n",
              "unique           NaN                    NaN                NaN   \n",
              "top              NaN                    NaN                NaN   \n",
              "freq             NaN                    NaN                NaN   \n",
              "mean        1.285094               1.095481           1.456513   \n",
              "std         0.451462               0.997578           0.498109   \n",
              "min         1.000000               0.000000           1.000000   \n",
              "25%         1.000000               0.200000           1.000000   \n",
              "50%         1.000000               0.800000           1.000000   \n",
              "75%         2.000000               1.800000           2.000000   \n",
              "max         2.000000               5.000000           2.000000   \n",
              "\n",
              "       Customer_Location  Email_Campaign_Type  Total_Past_Communications  \\\n",
              "count              56758         68353.000000               61528.000000   \n",
              "unique                 7                  NaN                        NaN   \n",
              "top                    G                  NaN                        NaN   \n",
              "freq               23173                  NaN                        NaN   \n",
              "mean                 NaN             2.272234                  28.933250   \n",
              "std                  NaN             0.468680                  12.536518   \n",
              "min                  NaN             1.000000                   0.000000   \n",
              "25%                  NaN             2.000000                  20.000000   \n",
              "50%                  NaN             2.000000                  28.000000   \n",
              "75%                  NaN             3.000000                  38.000000   \n",
              "max                  NaN             3.000000                  67.000000   \n",
              "\n",
              "        Time_Email_sent_Category    Word_Count   Total_Links  Total_Images  \\\n",
              "count               68353.000000  68353.000000  66152.000000  66676.000000   \n",
              "unique                       NaN           NaN           NaN           NaN   \n",
              "top                          NaN           NaN           NaN           NaN   \n",
              "freq                         NaN           NaN           NaN           NaN   \n",
              "mean                    1.999298    699.931751     10.429526      3.550678   \n",
              "std                     0.631103    271.719440      6.383270      5.596983   \n",
              "min                     1.000000     40.000000      1.000000      0.000000   \n",
              "25%                     2.000000    521.000000      6.000000      0.000000   \n",
              "50%                     2.000000    694.000000      9.000000      0.000000   \n",
              "75%                     2.000000    880.000000     14.000000      5.000000   \n",
              "max                     3.000000   1316.000000     49.000000     45.000000   \n",
              "\n",
              "        Email_Status  \n",
              "count   68353.000000  \n",
              "unique           NaN  \n",
              "top              NaN  \n",
              "freq             NaN  \n",
              "mean        0.230934  \n",
              "std         0.497032  \n",
              "min         0.000000  \n",
              "25%         0.000000  \n",
              "50%         0.000000  \n",
              "75%         0.000000  \n",
              "max         2.000000  "
            ],
            "text/html": [
              "\n",
              "  <div id=\"df-9c3c5678-d363-424f-bab4-59ea9f5c3311\">\n",
              "    <div class=\"colab-df-container\">\n",
              "      <div>\n",
              "<style scoped>\n",
              "    .dataframe tbody tr th:only-of-type {\n",
              "        vertical-align: middle;\n",
              "    }\n",
              "\n",
              "    .dataframe tbody tr th {\n",
              "        vertical-align: top;\n",
              "    }\n",
              "\n",
              "    .dataframe thead th {\n",
              "        text-align: right;\n",
              "    }\n",
              "</style>\n",
              "<table border=\"1\" class=\"dataframe\">\n",
              "  <thead>\n",
              "    <tr style=\"text-align: right;\">\n",
              "      <th></th>\n",
              "      <th>Email_Type</th>\n",
              "      <th>Subject_Hotness_Score</th>\n",
              "      <th>Email_Source_Type</th>\n",
              "      <th>Customer_Location</th>\n",
              "      <th>Email_Campaign_Type</th>\n",
              "      <th>Total_Past_Communications</th>\n",
              "      <th>Time_Email_sent_Category</th>\n",
              "      <th>Word_Count</th>\n",
              "      <th>Total_Links</th>\n",
              "      <th>Total_Images</th>\n",
              "      <th>Email_Status</th>\n",
              "    </tr>\n",
              "  </thead>\n",
              "  <tbody>\n",
              "    <tr>\n",
              "      <th>count</th>\n",
              "      <td>68353.000000</td>\n",
              "      <td>68353.000000</td>\n",
              "      <td>68353.000000</td>\n",
              "      <td>56758</td>\n",
              "      <td>68353.000000</td>\n",
              "      <td>61528.000000</td>\n",
              "      <td>68353.000000</td>\n",
              "      <td>68353.000000</td>\n",
              "      <td>66152.000000</td>\n",
              "      <td>66676.000000</td>\n",
              "      <td>68353.000000</td>\n",
              "    </tr>\n",
              "    <tr>\n",
              "      <th>unique</th>\n",
              "      <td>NaN</td>\n",
              "      <td>NaN</td>\n",
              "      <td>NaN</td>\n",
              "      <td>7</td>\n",
              "      <td>NaN</td>\n",
              "      <td>NaN</td>\n",
              "      <td>NaN</td>\n",
              "      <td>NaN</td>\n",
              "      <td>NaN</td>\n",
              "      <td>NaN</td>\n",
              "      <td>NaN</td>\n",
              "    </tr>\n",
              "    <tr>\n",
              "      <th>top</th>\n",
              "      <td>NaN</td>\n",
              "      <td>NaN</td>\n",
              "      <td>NaN</td>\n",
              "      <td>G</td>\n",
              "      <td>NaN</td>\n",
              "      <td>NaN</td>\n",
              "      <td>NaN</td>\n",
              "      <td>NaN</td>\n",
              "      <td>NaN</td>\n",
              "      <td>NaN</td>\n",
              "      <td>NaN</td>\n",
              "    </tr>\n",
              "    <tr>\n",
              "      <th>freq</th>\n",
              "      <td>NaN</td>\n",
              "      <td>NaN</td>\n",
              "      <td>NaN</td>\n",
              "      <td>23173</td>\n",
              "      <td>NaN</td>\n",
              "      <td>NaN</td>\n",
              "      <td>NaN</td>\n",
              "      <td>NaN</td>\n",
              "      <td>NaN</td>\n",
              "      <td>NaN</td>\n",
              "      <td>NaN</td>\n",
              "    </tr>\n",
              "    <tr>\n",
              "      <th>mean</th>\n",
              "      <td>1.285094</td>\n",
              "      <td>1.095481</td>\n",
              "      <td>1.456513</td>\n",
              "      <td>NaN</td>\n",
              "      <td>2.272234</td>\n",
              "      <td>28.933250</td>\n",
              "      <td>1.999298</td>\n",
              "      <td>699.931751</td>\n",
              "      <td>10.429526</td>\n",
              "      <td>3.550678</td>\n",
              "      <td>0.230934</td>\n",
              "    </tr>\n",
              "    <tr>\n",
              "      <th>std</th>\n",
              "      <td>0.451462</td>\n",
              "      <td>0.997578</td>\n",
              "      <td>0.498109</td>\n",
              "      <td>NaN</td>\n",
              "      <td>0.468680</td>\n",
              "      <td>12.536518</td>\n",
              "      <td>0.631103</td>\n",
              "      <td>271.719440</td>\n",
              "      <td>6.383270</td>\n",
              "      <td>5.596983</td>\n",
              "      <td>0.497032</td>\n",
              "    </tr>\n",
              "    <tr>\n",
              "      <th>min</th>\n",
              "      <td>1.000000</td>\n",
              "      <td>0.000000</td>\n",
              "      <td>1.000000</td>\n",
              "      <td>NaN</td>\n",
              "      <td>1.000000</td>\n",
              "      <td>0.000000</td>\n",
              "      <td>1.000000</td>\n",
              "      <td>40.000000</td>\n",
              "      <td>1.000000</td>\n",
              "      <td>0.000000</td>\n",
              "      <td>0.000000</td>\n",
              "    </tr>\n",
              "    <tr>\n",
              "      <th>25%</th>\n",
              "      <td>1.000000</td>\n",
              "      <td>0.200000</td>\n",
              "      <td>1.000000</td>\n",
              "      <td>NaN</td>\n",
              "      <td>2.000000</td>\n",
              "      <td>20.000000</td>\n",
              "      <td>2.000000</td>\n",
              "      <td>521.000000</td>\n",
              "      <td>6.000000</td>\n",
              "      <td>0.000000</td>\n",
              "      <td>0.000000</td>\n",
              "    </tr>\n",
              "    <tr>\n",
              "      <th>50%</th>\n",
              "      <td>1.000000</td>\n",
              "      <td>0.800000</td>\n",
              "      <td>1.000000</td>\n",
              "      <td>NaN</td>\n",
              "      <td>2.000000</td>\n",
              "      <td>28.000000</td>\n",
              "      <td>2.000000</td>\n",
              "      <td>694.000000</td>\n",
              "      <td>9.000000</td>\n",
              "      <td>0.000000</td>\n",
              "      <td>0.000000</td>\n",
              "    </tr>\n",
              "    <tr>\n",
              "      <th>75%</th>\n",
              "      <td>2.000000</td>\n",
              "      <td>1.800000</td>\n",
              "      <td>2.000000</td>\n",
              "      <td>NaN</td>\n",
              "      <td>3.000000</td>\n",
              "      <td>38.000000</td>\n",
              "      <td>2.000000</td>\n",
              "      <td>880.000000</td>\n",
              "      <td>14.000000</td>\n",
              "      <td>5.000000</td>\n",
              "      <td>0.000000</td>\n",
              "    </tr>\n",
              "    <tr>\n",
              "      <th>max</th>\n",
              "      <td>2.000000</td>\n",
              "      <td>5.000000</td>\n",
              "      <td>2.000000</td>\n",
              "      <td>NaN</td>\n",
              "      <td>3.000000</td>\n",
              "      <td>67.000000</td>\n",
              "      <td>3.000000</td>\n",
              "      <td>1316.000000</td>\n",
              "      <td>49.000000</td>\n",
              "      <td>45.000000</td>\n",
              "      <td>2.000000</td>\n",
              "    </tr>\n",
              "  </tbody>\n",
              "</table>\n",
              "</div>\n",
              "      <button class=\"colab-df-convert\" onclick=\"convertToInteractive('df-9c3c5678-d363-424f-bab4-59ea9f5c3311')\"\n",
              "              title=\"Convert this dataframe to an interactive table.\"\n",
              "              style=\"display:none;\">\n",
              "        \n",
              "  <svg xmlns=\"http://www.w3.org/2000/svg\" height=\"24px\"viewBox=\"0 0 24 24\"\n",
              "       width=\"24px\">\n",
              "    <path d=\"M0 0h24v24H0V0z\" fill=\"none\"/>\n",
              "    <path d=\"M18.56 5.44l.94 2.06.94-2.06 2.06-.94-2.06-.94-.94-2.06-.94 2.06-2.06.94zm-11 1L8.5 8.5l.94-2.06 2.06-.94-2.06-.94L8.5 2.5l-.94 2.06-2.06.94zm10 10l.94 2.06.94-2.06 2.06-.94-2.06-.94-.94-2.06-.94 2.06-2.06.94z\"/><path d=\"M17.41 7.96l-1.37-1.37c-.4-.4-.92-.59-1.43-.59-.52 0-1.04.2-1.43.59L10.3 9.45l-7.72 7.72c-.78.78-.78 2.05 0 2.83L4 21.41c.39.39.9.59 1.41.59.51 0 1.02-.2 1.41-.59l7.78-7.78 2.81-2.81c.8-.78.8-2.07 0-2.86zM5.41 20L4 18.59l7.72-7.72 1.47 1.35L5.41 20z\"/>\n",
              "  </svg>\n",
              "      </button>\n",
              "      \n",
              "  <style>\n",
              "    .colab-df-container {\n",
              "      display:flex;\n",
              "      flex-wrap:wrap;\n",
              "      gap: 12px;\n",
              "    }\n",
              "\n",
              "    .colab-df-convert {\n",
              "      background-color: #E8F0FE;\n",
              "      border: none;\n",
              "      border-radius: 50%;\n",
              "      cursor: pointer;\n",
              "      display: none;\n",
              "      fill: #1967D2;\n",
              "      height: 32px;\n",
              "      padding: 0 0 0 0;\n",
              "      width: 32px;\n",
              "    }\n",
              "\n",
              "    .colab-df-convert:hover {\n",
              "      background-color: #E2EBFA;\n",
              "      box-shadow: 0px 1px 2px rgba(60, 64, 67, 0.3), 0px 1px 3px 1px rgba(60, 64, 67, 0.15);\n",
              "      fill: #174EA6;\n",
              "    }\n",
              "\n",
              "    [theme=dark] .colab-df-convert {\n",
              "      background-color: #3B4455;\n",
              "      fill: #D2E3FC;\n",
              "    }\n",
              "\n",
              "    [theme=dark] .colab-df-convert:hover {\n",
              "      background-color: #434B5C;\n",
              "      box-shadow: 0px 1px 3px 1px rgba(0, 0, 0, 0.15);\n",
              "      filter: drop-shadow(0px 1px 2px rgba(0, 0, 0, 0.3));\n",
              "      fill: #FFFFFF;\n",
              "    }\n",
              "  </style>\n",
              "\n",
              "      <script>\n",
              "        const buttonEl =\n",
              "          document.querySelector('#df-9c3c5678-d363-424f-bab4-59ea9f5c3311 button.colab-df-convert');\n",
              "        buttonEl.style.display =\n",
              "          google.colab.kernel.accessAllowed ? 'block' : 'none';\n",
              "\n",
              "        async function convertToInteractive(key) {\n",
              "          const element = document.querySelector('#df-9c3c5678-d363-424f-bab4-59ea9f5c3311');\n",
              "          const dataTable =\n",
              "            await google.colab.kernel.invokeFunction('convertToInteractive',\n",
              "                                                     [key], {});\n",
              "          if (!dataTable) return;\n",
              "\n",
              "          const docLinkHtml = 'Like what you see? Visit the ' +\n",
              "            '<a target=\"_blank\" href=https://colab.research.google.com/notebooks/data_table.ipynb>data table notebook</a>'\n",
              "            + ' to learn more about interactive tables.';\n",
              "          element.innerHTML = '';\n",
              "          dataTable['output_type'] = 'display_data';\n",
              "          await google.colab.output.renderOutput(dataTable, element);\n",
              "          const docLink = document.createElement('div');\n",
              "          docLink.innerHTML = docLinkHtml;\n",
              "          element.appendChild(docLink);\n",
              "        }\n",
              "      </script>\n",
              "    </div>\n",
              "  </div>\n",
              "  "
            ]
          },
          "metadata": {},
          "execution_count": 7
        }
      ],
      "source": [
        "# Descriptive summary of the dataset\n",
        "df.describe(include='all')"
      ]
    },
    {
      "cell_type": "markdown",
      "metadata": {
        "id": "a1zL_ZocqVTJ"
      },
      "source": [
        "# **EDA**"
      ]
    },
    {
      "cell_type": "markdown",
      "metadata": {
        "id": "kYrRZrJ1XQcz"
      },
      "source": [
        "### Exploratory Data Analysis (EDA) is an approach to analyzing datasets to summarize their main characteristics, often with visual methods. EDA is used for seeing what the data can tell us before the modeling task.It involves exploring and analyzing the dataset given to find out patterns, trends and conclusions to take better decisions related to the data. In this section, we will be trying to obtain those features which help our emails not get ignored."
      ]
    },
    {
      "cell_type": "markdown",
      "metadata": {
        "id": "LuG1vojHPo9u"
      },
      "source": [
        "## **Data Cleaning**"
      ]
    },
    {
      "cell_type": "markdown",
      "metadata": {
        "id": "Xt8lLjbhP-KL"
      },
      "source": [
        "## Check for Null values"
      ]
    },
    {
      "cell_type": "markdown",
      "metadata": {
        "id": "cZeAQQQNQH5T"
      },
      "source": [
        "### A null value in a relational database is used when the value in a column is unknown or missing. A null is neither an empty string (for character or datetime data types) nor a zero value (for numeric data types)."
      ]
    },
    {
      "cell_type": "code",
      "execution_count": 8,
      "metadata": {
        "colab": {
          "base_uri": "https://localhost:8080/"
        },
        "id": "7EYCCmJYDby-",
        "outputId": "cf0fb442-7d51-4bf3-eb9c-63a1d7d35371"
      },
      "outputs": [
        {
          "output_type": "execute_result",
          "data": {
            "text/plain": [
              "Email_Type                       0\n",
              "Subject_Hotness_Score            0\n",
              "Email_Source_Type                0\n",
              "Customer_Location            11595\n",
              "Email_Campaign_Type              0\n",
              "Total_Past_Communications     6825\n",
              "Time_Email_sent_Category         0\n",
              "Word_Count                       0\n",
              "Total_Links                   2201\n",
              "Total_Images                  1677\n",
              "Email_Status                     0\n",
              "dtype: int64"
            ]
          },
          "metadata": {},
          "execution_count": 8
        }
      ],
      "source": [
        "# Checking for Null values in the dataframe\n",
        "df.isnull().sum()"
      ]
    },
    {
      "cell_type": "markdown",
      "metadata": {
        "id": "U0GJEMfqRCfZ"
      },
      "source": [
        "### We have Null values present in these columns \n",
        "### • Customer_Location\n",
        "### • Total_Past_Communications\n",
        "### • Total_Links\n",
        "### • Total_Images"
      ]
    },
    {
      "cell_type": "markdown",
      "metadata": {
        "id": "iZFeiuhBY3SV"
      },
      "source": [
        "## **Univariate Analysis**"
      ]
    },
    {
      "cell_type": "markdown",
      "metadata": {
        "id": "8_e6eJOBXmsr"
      },
      "source": [
        "### Univariate analysis is the simplest form of analyzing data. “Uni” means “one”, so in other words your data has only one variable. It doesn’t deal with causes or relationships (unlike regression ) and it’s major purpose is to describe; It takes data, summarizes that data and finds patterns in the data."
      ]
    },
    {
      "cell_type": "code",
      "execution_count": 9,
      "metadata": {
        "id": "qOwsExeIW6tf"
      },
      "outputs": [],
      "source": [
        "# Create a list of all the numerical features in the dataset.\n",
        "numerical_columns=[\"Word_Count\",\"Total_Past_Communications\",\"Total_Links\",\"Total_Images\",\"Subject_Hotness_Score\"]"
      ]
    },
    {
      "cell_type": "code",
      "execution_count": 10,
      "metadata": {
        "colab": {
          "base_uri": "https://localhost:8080/",
          "height": 939
        },
        "id": "AqWvW7kEWrmo",
        "outputId": "58908916-93f2-41cd-bba8-392d7be9414c"
      },
      "outputs": [
        {
          "output_type": "display_data",
          "data": {
            "text/plain": [
              "<Figure size 1080x1080 with 6 Axes>"
            ],
            "image/png": "[encoded data removed]"
          },
          "metadata": {
            "needs_background": "light"
          }
        }
      ],
      "source": [
        "# define subplot grid\n",
        "fig, axs = plt.subplots(nrows=3, ncols=2, figsize=(15, 15))\n",
        "plt.subplots_adjust(hspace=0.5)\n",
        "axs[2][1].set_visible(False) # Ignore the last subplot beacause we dont need it\n",
        "fig.suptitle(\"Distribution Of Numerical Features\", fontsize=18, y=0.95) # Define a title to the plot\n",
        "\n",
        "# loop through numerical_columns and axes\n",
        "for col, ax in zip(numerical_columns, axs.ravel()):\n",
        "    # filter df for column and plot on specified axes\n",
        "    sns.distplot(x=df[col],ax=ax,rug=True, rug_kws={\"color\": \"b\"},kde_kws={\"color\": \"k\", \"lw\": 2, \"label\": \"KDE\"})\n",
        "\n",
        "    # chart formatting\n",
        "    ax.set_title(col.upper())\n",
        "    ax.set_xlabel(\"\")"
      ]
    },
    {
      "cell_type": "markdown",
      "metadata": {
        "id": "bgQ7KI7VUWtk"
      },
      "source": [
        "### We observe that the distribution of Total_Past_Communications and Word_Count follows Normal distribution. So it is fine to the use mean to fill up the Null values in 'Total_Past_Communications' column.\n",
        "\n",
        "### Rest of the features were highly skewed on the right. Mode is robust to outliers so we use mode to fill up the missing values in Total_Links and Total_Images columns. "
      ]
    },
    {
      "cell_type": "markdown",
      "metadata": {
        "id": "xcV5VdgzeN1a"
      },
      "source": [
        "## **Imputing Missing Values**"
      ]
    },
    {
      "cell_type": "code",
      "execution_count": 11,
      "metadata": {
        "id": "9drkFoaKC3pB"
      },
      "outputs": [],
      "source": [
        "# Filling the null values with the mean of the column\n",
        "df['Total_Past_Communications']=df[\"Total_Past_Communications\"].fillna(df['Total_Past_Communications'].mean())"
      ]
    },
    {
      "cell_type": "code",
      "execution_count": 12,
      "metadata": {
        "id": "SODrMxBLDQLL"
      },
      "outputs": [],
      "source": [
        "# Filling the null values with the mode of the column \n",
        "df['Total_Links']=df[\"Total_Links\"].fillna(df['Total_Links'].mode()[0])\n",
        "df['Total_Images']=df[\"Total_Images\"].fillna(df['Total_Images'].mode()[0])"
      ]
    },
    {
      "cell_type": "code",
      "execution_count": 13,
      "metadata": {
        "colab": {
          "base_uri": "https://localhost:8080/",
          "height": 501
        },
        "id": "6pAT6AuGDtGH",
        "outputId": "46d0bffc-863e-44c6-f8ea-e7f9d361663e"
      },
      "outputs": [
        {
          "output_type": "display_data",
          "data": {
            "text/plain": [
              "<Figure size 720x576 with 1 Axes>"
            ],
            "image/png": "[encoded data removed]"
          },
          "metadata": {
            "needs_background": "light"
          }
        }
      ],
      "source": [
        "# Plot of frequency of Email status per each customer locatiion \n",
        "plt.figure(figsize=(10,8)) # define figure size\n",
        "plt.ylabel(\"Frequency of Email Status\")\n",
        "ax=sns.countplot(df['Customer_Location'],hue=df['Email_Status']) # Using seaborn's countplot for visualization\n",
        "plt.xticks(size=12)\n",
        "plt.yticks(size=12)\n",
        "plt.show()\n"
      ]
    },
    {
      "cell_type": "markdown",
      "metadata": {
        "id": "hxoBX-QihjEE"
      },
      "source": [
        "### After observing the frequency graph of different values of  Customer_location with respect to the Email_status category, we found that the customer location has nothing to do with Email_Status. we came to a conclusion that the email being Ignored, Read or Acknowledged is the same irrespective of the location.\n",
        "\n",
        "### So we drop Customer_Location feature"
      ]
    },
    {
      "cell_type": "code",
      "execution_count": 14,
      "metadata": {
        "id": "T98dYcDIEcgO"
      },
      "outputs": [],
      "source": [
        "# Dropping the Customer_Location column\n",
        "df=df.drop('Customer_Location',axis=1)"
      ]
    },
    {
      "cell_type": "markdown",
      "metadata": {
        "id": "trU3bSDvCmMl"
      },
      "source": [
        "## **Correlation Heat Map**"
      ]
    },
    {
      "cell_type": "markdown",
      "metadata": {
        "id": "BM-6vhItYM2W"
      },
      "source": [
        "### Correlation heatmaps are a type of plot that visualize the strength of relationships between numerical variables. Correlation plots are used to understand which variables are related to each other and the strength of this relationship. A correlation plot typically contains a number of numerical variables, with each variable represented by a column. The rows represent the relationship between each pair of variables. The values in the cells indicate the strength of the relationship, with positive values indicating a positive relationship and negative values indicating a negative relationship."
      ]
    },
    {
      "cell_type": "code",
      "execution_count": 15,
      "metadata": {
        "colab": {
          "base_uri": "https://localhost:8080/",
          "height": 669
        },
        "id": "9FTcKmDuCkfg",
        "outputId": "823facef-4bc6-4938-9a35-2492071bfaac"
      },
      "outputs": [
        {
          "output_type": "display_data",
          "data": {
            "text/plain": [
              "<Figure size 1008x648 with 2 Axes>"
            ],
            "image/png": "[encoded data removed]"
          },
          "metadata": {
            "needs_background": "light"
          }
        }
      ],
      "source": [
        "#Correlation matrix\n",
        "plt.figure(figsize=(14,9))\n",
        "sns.heatmap(df.corr(), cmap='PiYG', annot=True) # using seaborn's heatmap for visualization\n",
        "plt.show()"
      ]
    },
    {
      "cell_type": "markdown",
      "metadata": {
        "id": "uamk--GuPUlS"
      },
      "source": [
        "### we can observe that the correlation between Total_Links and Total_Images is 0.75 (high correlation)\n",
        "\n",
        "### Email Campaign Type and word count shows positive correlation with emails being read and acknowledged.\n",
        "\n",
        "### Email_type and Subject Hotness score are the most negatives amongst other."
      ]
    },
    {
      "cell_type": "markdown",
      "metadata": {
        "id": "xHtJv3jZZpcV"
      },
      "source": [
        "## **Bivariate Analysis**"
      ]
    },
    {
      "cell_type": "markdown",
      "metadata": {
        "id": "uQWD8eu7ZMXt"
      },
      "source": [
        "### Bivariate analysis is one of the statistical analysis where two variables are observed. One variable here is dependent while the other is independent. These variables are usually denoted by X and Y. So, here we analyse the changes occured between the two variables and to what extent."
      ]
    },
    {
      "cell_type": "code",
      "execution_count": 16,
      "metadata": {
        "id": "YvUCFK5BuBRh"
      },
      "outputs": [],
      "source": [
        "# Create a list of all the categorical features in the dataset\n",
        "categorical_columns=['Email_Type','Email_Source_Type','Email_Campaign_Type','Time_Email_sent_Category']"
      ]
    },
    {
      "cell_type": "code",
      "execution_count": 17,
      "metadata": {
        "colab": {
          "base_uri": "https://localhost:8080/",
          "height": 1000
        },
        "id": "w2sqc73gu_mw",
        "outputId": "938b08be-d0dc-4ea3-f79b-e7784dc600b5"
      },
      "outputs": [
        {
          "output_type": "display_data",
          "data": {
            "text/plain": [
              "<Figure size 720x576 with 1 Axes>"
            ],
            "image/png": "[encoded data removed]"
          },
          "metadata": {
            "needs_background": "light"
          }
        },
        {
          "output_type": "display_data",
          "data": {
            "text/plain": [
              "<Figure size 720x576 with 1 Axes>"
            ],
            "image/png": "[encoded data removed]"
          },
          "metadata": {
            "needs_background": "light"
          }
        },
        {
          "output_type": "display_data",
          "data": {
            "text/plain": [
              "<Figure size 720x576 with 1 Axes>"
            ],
            "image/png": "[encoded data removed]"
          },
          "metadata": {
            "needs_background": "light"
          }
        },
        {
          "output_type": "display_data",
          "data": {
            "text/plain": [
              "<Figure size 720x576 with 1 Axes>"
            ],
            "image/png": "[encoded data removed]"
          },
          "metadata": {
            "needs_background": "light"
          }
        }
      ],
      "source": [
        "# loop through numerical_columns and axes  \n",
        "for i,col in enumerate(categorical_columns):\n",
        "  plt.figure(figsize=(10,8))\n",
        "  ax=sns.countplot(x=df[col], hue=df[\"Email_Status\"]) # using seaborn's countplot for visualization\n",
        "  unique = len([x for x in df[col].unique() if x==x])\n",
        "  bars = ax.patches\n",
        "  # Iterate through the unique list\n",
        "  for i in range(unique):\n",
        "      catbars=bars[i:][::unique]\n",
        "      #get height\n",
        "      total = sum([x.get_height() for x in catbars])\n",
        "      #print percentage\n",
        "      for bar in catbars:\n",
        "        ax.text(bar.get_x()+bar.get_width()/2.,\n",
        "                    bar.get_height(),\n",
        "                    f'{bar.get_height()/total:.0%}',\n",
        "                    ha=\"center\",va=\"bottom\")\n",
        "  plt.show()\n",
        "    "
      ]
    },
    {
      "cell_type": "markdown",
      "metadata": {
        "id": "xuYhvMo2Z6Pq"
      },
      "source": [
        "### • The emails of type 1 are sent more than the email type 2. But the proportion of ignored, read and acknowledged mails are same for both email types \n",
        "\n",
        "### • Both the email source types have similar proportion of ignored, read and acknowledge mails. This shows that the email source type has nothing to do with email status\n",
        "\n",
        "### • In the Email campaign type feature, eventhough the number of email sent through campaign type 1 are very few they have a high possibility of getting read. Most emails were sent from campaign type 2 and 80% of them are ignored. Seems like campaign 3 was a success beacuse even when less number of emails were sent under campaign 3, more emails were read and acknowledged.\n",
        "\n",
        "\n",
        "### • From the last graph above we infer that our target variable, i.e.Email_Status does not depend upon Time_Email_sent_catagory."
      ]
    },
    {
      "cell_type": "markdown",
      "metadata": {
        "id": "7qmrYtNRlzsa"
      },
      "source": [
        "## **Outlier Detection**"
      ]
    },
    {
      "cell_type": "markdown",
      "metadata": {
        "id": "FzOwa0CxWcwj"
      },
      "source": [
        "### Outliers are those data points that are significantly different from the rest of the dataset. They are often abnormal observations that skew the data distribution, and arise due to inconsistent data entry, or erroneous observations."
      ]
    },
    {
      "cell_type": "code",
      "execution_count": 18,
      "metadata": {
        "colab": {
          "base_uri": "https://localhost:8080/",
          "height": 1000
        },
        "id": "2ZyNjj3rl7Tk",
        "outputId": "3e83109b-5451-458b-88b2-1b4ec9056bf4"
      },
      "outputs": [
        {
          "output_type": "display_data",
          "data": {
            "text/plain": [
              "<Figure size 1440x1440 with 6 Axes>"
            ],
            "image/png": "[encoded data removed]"
          },
          "metadata": {
            "needs_background": "light"
          }
        }
      ],
      "source": [
        "# define subplot grid\n",
        "fig, axs = plt.subplots(nrows=2, ncols=3, figsize=(20, 20)) # Creating subplots\n",
        "plt.subplots_adjust(hspace=0.25) # Adjusting hoprizontal space\n",
        "fig.suptitle(\"Box Plot Of Numerical Features\", fontsize=18, y=0.95)\n",
        "axs[1][2].set_visible(False) # Make the last subplot as invincible\n",
        "\n",
        "# loop through numerical_columns and axes\n",
        "for col, ax in zip(numerical_columns, axs.ravel()):\n",
        "    # filter df for column and plot on specified axes\n",
        "    sns.boxplot(x=df['Email_Status'],y=df[col],ax=ax,palette=\"husl\")\n",
        "\n",
        "    # chart formatting\n",
        "    ax.set_title(col.upper())\n",
        "    ax.set_xlabel(\"Email_Status\")\n",
        "\n",
        "plt.show()"
      ]
    },
    {
      "cell_type": "markdown",
      "metadata": {
        "id": "oWRvRl7UCeHg"
      },
      "source": [
        "### • As the word_count increases beyond 600, we can see that there is high possibilty of email being ignored. The more the words in a email,the more it has a tendency to ignored. \n",
        "### • In the Total_Past_Coomunications, median of ignored emails was around 28 with a few outliers. Analyzing Total_Past_Communications, we can see that the increase in the total past communications increases the chance of email being read or acknowledged.This is just about making connection with your customers.\n",
        "### • The median is almost same in all of the three cases in total links feature with a number of outliers.\n",
        "### • We can see that increase in Total Images increases the chance of email being ignored.\n",
        "### • In the Subject_Hotness_Score, median of ignored emails was around 1 with a few outliers and the median for read and acknowledged email are much lower which is around 0.2 to 0.5"
      ]
    },
    {
      "cell_type": "markdown",
      "metadata": {
        "id": "ZsAXGUUfPJUE"
      },
      "source": [
        "## **Multicollinearity and Feature Selection**"
      ]
    },
    {
      "cell_type": "markdown",
      "metadata": {
        "id": "U_w-zSZnGou9"
      },
      "source": [
        "### Multicollinearity occurs when two or more independent continuous features in the dataset are highly correlated and can help predict each other and the dependent variable. This makes it difficult to individually analyse the affect of these individual independent variables on the target or dependent variable.\n",
        "\n",
        "### We can quantify multicollinearity using Variance Inflation Factors (VIF)\n",
        "\n",
        "### VIF = 1/(1-R^2) The more the value of R^2 is closer to 1 the more, VIF score tends to infinity. VIF starts with 1 and denotes that the variable has no correlation at all. VIF more than 5-10 can be considered as serious case of multicollinearity and can affect prediction models."
      ]
    },
    {
      "cell_type": "code",
      "execution_count": 19,
      "metadata": {
        "id": "v00adT_FGq8b"
      },
      "outputs": [],
      "source": [
        "# Function to calculate the vif values\n",
        "def vif_calc(df):\n",
        "  vif = pd.DataFrame() # creating a empty dataframe to store the vif values\n",
        "  vif[\"features\"] = df.columns # copying feature names from df.columns list to Vif dataframe\n",
        "  vif[\"VIF\"] = [variance_inflation_factor(df.values, i) for i in range(df.shape[1])] #calculating vif values for each feature\n",
        "  return(vif)"
      ]
    },
    {
      "cell_type": "code",
      "execution_count": 20,
      "metadata": {
        "colab": {
          "base_uri": "https://localhost:8080/",
          "height": 206
        },
        "id": "71jdURYTG4He",
        "outputId": "ea6d7360-155d-4774-8a23-bd92378b18ec"
      },
      "outputs": [
        {
          "output_type": "execute_result",
          "data": {
            "text/plain": [
              "                    features       VIF\n",
              "0      Subject_Hotness_Score  1.805701\n",
              "1  Total_Past_Communications  3.939214\n",
              "2                 Word_Count  4.065844\n",
              "3                Total_Links  8.690857\n",
              "4               Total_Images  3.171439"
            ],
            "text/html": [
              "\n",
              "  <div id=\"df-03f11101-f280-4ac8-9ce7-2bc55b1ac531\">\n",
              "    <div class=\"colab-df-container\">\n",
              "      <div>\n",
              "<style scoped>\n",
              "    .dataframe tbody tr th:only-of-type {\n",
              "        vertical-align: middle;\n",
              "    }\n",
              "\n",
              "    .dataframe tbody tr th {\n",
              "        vertical-align: top;\n",
              "    }\n",
              "\n",
              "    .dataframe thead th {\n",
              "        text-align: right;\n",
              "    }\n",
              "</style>\n",
              "<table border=\"1\" class=\"dataframe\">\n",
              "  <thead>\n",
              "    <tr style=\"text-align: right;\">\n",
              "      <th></th>\n",
              "      <th>features</th>\n",
              "      <th>VIF</th>\n",
              "    </tr>\n",
              "  </thead>\n",
              "  <tbody>\n",
              "    <tr>\n",
              "      <th>0</th>\n",
              "      <td>Subject_Hotness_Score</td>\n",
              "      <td>1.805701</td>\n",
              "    </tr>\n",
              "    <tr>\n",
              "      <th>1</th>\n",
              "      <td>Total_Past_Communications</td>\n",
              "      <td>3.939214</td>\n",
              "    </tr>\n",
              "    <tr>\n",
              "      <th>2</th>\n",
              "      <td>Word_Count</td>\n",
              "      <td>4.065844</td>\n",
              "    </tr>\n",
              "    <tr>\n",
              "      <th>3</th>\n",
              "      <td>Total_Links</td>\n",
              "      <td>8.690857</td>\n",
              "    </tr>\n",
              "    <tr>\n",
              "      <th>4</th>\n",
              "      <td>Total_Images</td>\n",
              "      <td>3.171439</td>\n",
              "    </tr>\n",
              "  </tbody>\n",
              "</table>\n",
              "</div>\n",
              "      <button class=\"colab-df-convert\" onclick=\"convertToInteractive('df-03f11101-f280-4ac8-9ce7-2bc55b1ac531')\"\n",
              "              title=\"Convert this dataframe to an interactive table.\"\n",
              "              style=\"display:none;\">\n",
              "        \n",
              "  <svg xmlns=\"http://www.w3.org/2000/svg\" height=\"24px\"viewBox=\"0 0 24 24\"\n",
              "       width=\"24px\">\n",
              "    <path d=\"M0 0h24v24H0V0z\" fill=\"none\"/>\n",
              "    <path d=\"M18.56 5.44l.94 2.06.94-2.06 2.06-.94-2.06-.94-.94-2.06-.94 2.06-2.06.94zm-11 1L8.5 8.5l.94-2.06 2.06-.94-2.06-.94L8.5 2.5l-.94 2.06-2.06.94zm10 10l.94 2.06.94-2.06 2.06-.94-2.06-.94-.94-2.06-.94 2.06-2.06.94z\"/><path d=\"M17.41 7.96l-1.37-1.37c-.4-.4-.92-.59-1.43-.59-.52 0-1.04.2-1.43.59L10.3 9.45l-7.72 7.72c-.78.78-.78 2.05 0 2.83L4 21.41c.39.39.9.59 1.41.59.51 0 1.02-.2 1.41-.59l7.78-7.78 2.81-2.81c.8-.78.8-2.07 0-2.86zM5.41 20L4 18.59l7.72-7.72 1.47 1.35L5.41 20z\"/>\n",
              "  </svg>\n",
              "      </button>\n",
              "      \n",
              "  <style>\n",
              "    .colab-df-container {\n",
              "      display:flex;\n",
              "      flex-wrap:wrap;\n",
              "      gap: 12px;\n",
              "    }\n",
              "\n",
              "    .colab-df-convert {\n",
              "      background-color: #E8F0FE;\n",
              "      border: none;\n",
              "      border-radius: 50%;\n",
              "      cursor: pointer;\n",
              "      display: none;\n",
              "      fill: #1967D2;\n",
              "      height: 32px;\n",
              "      padding: 0 0 0 0;\n",
              "      width: 32px;\n",
              "    }\n",
              "\n",
              "    .colab-df-convert:hover {\n",
              "      background-color: #E2EBFA;\n",
              "      box-shadow: 0px 1px 2px rgba(60, 64, 67, 0.3), 0px 1px 3px 1px rgba(60, 64, 67, 0.15);\n",
              "      fill: #174EA6;\n",
              "    }\n",
              "\n",
              "    [theme=dark] .colab-df-convert {\n",
              "      background-color: #3B4455;\n",
              "      fill: #D2E3FC;\n",
              "    }\n",
              "\n",
              "    [theme=dark] .colab-df-convert:hover {\n",
              "      background-color: #434B5C;\n",
              "      box-shadow: 0px 1px 3px 1px rgba(0, 0, 0, 0.15);\n",
              "      filter: drop-shadow(0px 1px 2px rgba(0, 0, 0, 0.3));\n",
              "      fill: #FFFFFF;\n",
              "    }\n",
              "  </style>\n",
              "\n",
              "      <script>\n",
              "        const buttonEl =\n",
              "          document.querySelector('#df-03f11101-f280-4ac8-9ce7-2bc55b1ac531 button.colab-df-convert');\n",
              "        buttonEl.style.display =\n",
              "          google.colab.kernel.accessAllowed ? 'block' : 'none';\n",
              "\n",
              "        async function convertToInteractive(key) {\n",
              "          const element = document.querySelector('#df-03f11101-f280-4ac8-9ce7-2bc55b1ac531');\n",
              "          const dataTable =\n",
              "            await google.colab.kernel.invokeFunction('convertToInteractive',\n",
              "                                                     [key], {});\n",
              "          if (!dataTable) return;\n",
              "\n",
              "          const docLinkHtml = 'Like what you see? Visit the ' +\n",
              "            '<a target=\"_blank\" href=https://colab.research.google.com/notebooks/data_table.ipynb>data table notebook</a>'\n",
              "            + ' to learn more about interactive tables.';\n",
              "          element.innerHTML = '';\n",
              "          dataTable['output_type'] = 'display_data';\n",
              "          await google.colab.output.renderOutput(dataTable, element);\n",
              "          const docLink = document.createElement('div');\n",
              "          docLink.innerHTML = docLinkHtml;\n",
              "          element.appendChild(docLink);\n",
              "        }\n",
              "      </script>\n",
              "    </div>\n",
              "  </div>\n",
              "  "
            ]
          },
          "metadata": {},
          "execution_count": 20
        }
      ],
      "source": [
        "#let's get the VIF scores\n",
        "# Create a list of all the categorical features in the dataset\n",
        "categorical_variables = ['Email_Type','Email_Source_Type','Customer_Location','Email_Campaign_Type','Time_Email_sent_Category']\n",
        "vif_df = vif_calc(df[[i for i in df.describe().columns if i not in categorical_variables + ['Email_Status']]]) # Using the vif_calc function to calculate the vif values\n",
        "vif_df"
      ]
    },
    {
      "cell_type": "markdown",
      "metadata": {
        "id": "tSdeonWTUG8U"
      },
      "source": [
        "### We can see that the VIF of Total_Links is greater than 5. Previously in the correlation heatmap we have seen that there is high correlation between Total_Links and Total_Images with a score of 0.75. So in order to avoid multicollinearity loss We can try combining both of these or deleting one of these."
      ]
    },
    {
      "cell_type": "code",
      "execution_count": 21,
      "metadata": {
        "id": "qjpyJ36HV1xI"
      },
      "outputs": [],
      "source": [
        "# we try combining both the Total_Images and Total_Links\n",
        "df['Links_Images']=df['Total_Images']+df['Total_Links'] # Adding Total_images and Total_links and creating a new column for the sum\n",
        "df.drop(['Total_Images','Total_Links'],inplace=True,axis=1) # drop the old columns "
      ]
    },
    {
      "cell_type": "code",
      "execution_count": 22,
      "metadata": {
        "colab": {
          "base_uri": "https://localhost:8080/",
          "height": 175
        },
        "id": "6pu06cG_U_HV",
        "outputId": "25cc6abd-7018-424e-c2b7-454e44af6295"
      },
      "outputs": [
        {
          "output_type": "execute_result",
          "data": {
            "text/plain": [
              "                    features       VIF\n",
              "0      Subject_Hotness_Score  1.734531\n",
              "1  Total_Past_Communications  3.430879\n",
              "2                 Word_Count  3.687067\n",
              "3               Links_Images  2.629047"
            ],
            "text/html": [
              "\n",
              "  <div id=\"df-56a6fb2e-dd75-4fd3-bb9b-83d008eca4c6\">\n",
              "    <div class=\"colab-df-container\">\n",
              "      <div>\n",
              "<style scoped>\n",
              "    .dataframe tbody tr th:only-of-type {\n",
              "        vertical-align: middle;\n",
              "    }\n",
              "\n",
              "    .dataframe tbody tr th {\n",
              "        vertical-align: top;\n",
              "    }\n",
              "\n",
              "    .dataframe thead th {\n",
              "        text-align: right;\n",
              "    }\n",
              "</style>\n",
              "<table border=\"1\" class=\"dataframe\">\n",
              "  <thead>\n",
              "    <tr style=\"text-align: right;\">\n",
              "      <th></th>\n",
              "      <th>features</th>\n",
              "      <th>VIF</th>\n",
              "    </tr>\n",
              "  </thead>\n",
              "  <tbody>\n",
              "    <tr>\n",
              "      <th>0</th>\n",
              "      <td>Subject_Hotness_Score</td>\n",
              "      <td>1.734531</td>\n",
              "    </tr>\n",
              "    <tr>\n",
              "      <th>1</th>\n",
              "      <td>Total_Past_Communications</td>\n",
              "      <td>3.430879</td>\n",
              "    </tr>\n",
              "    <tr>\n",
              "      <th>2</th>\n",
              "      <td>Word_Count</td>\n",
              "      <td>3.687067</td>\n",
              "    </tr>\n",
              "    <tr>\n",
              "      <th>3</th>\n",
              "      <td>Links_Images</td>\n",
              "      <td>2.629047</td>\n",
              "    </tr>\n",
              "  </tbody>\n",
              "</table>\n",
              "</div>\n",
              "      <button class=\"colab-df-convert\" onclick=\"convertToInteractive('df-56a6fb2e-dd75-4fd3-bb9b-83d008eca4c6')\"\n",
              "              title=\"Convert this dataframe to an interactive table.\"\n",
              "              style=\"display:none;\">\n",
              "        \n",
              "  <svg xmlns=\"http://www.w3.org/2000/svg\" height=\"24px\"viewBox=\"0 0 24 24\"\n",
              "       width=\"24px\">\n",
              "    <path d=\"M0 0h24v24H0V0z\" fill=\"none\"/>\n",
              "    <path d=\"M18.56 5.44l.94 2.06.94-2.06 2.06-.94-2.06-.94-.94-2.06-.94 2.06-2.06.94zm-11 1L8.5 8.5l.94-2.06 2.06-.94-2.06-.94L8.5 2.5l-.94 2.06-2.06.94zm10 10l.94 2.06.94-2.06 2.06-.94-2.06-.94-.94-2.06-.94 2.06-2.06.94z\"/><path d=\"M17.41 7.96l-1.37-1.37c-.4-.4-.92-.59-1.43-.59-.52 0-1.04.2-1.43.59L10.3 9.45l-7.72 7.72c-.78.78-.78 2.05 0 2.83L4 21.41c.39.39.9.59 1.41.59.51 0 1.02-.2 1.41-.59l7.78-7.78 2.81-2.81c.8-.78.8-2.07 0-2.86zM5.41 20L4 18.59l7.72-7.72 1.47 1.35L5.41 20z\"/>\n",
              "  </svg>\n",
              "      </button>\n",
              "      \n",
              "  <style>\n",
              "    .colab-df-container {\n",
              "      display:flex;\n",
              "      flex-wrap:wrap;\n",
              "      gap: 12px;\n",
              "    }\n",
              "\n",
              "    .colab-df-convert {\n",
              "      background-color: #E8F0FE;\n",
              "      border: none;\n",
              "      border-radius: 50%;\n",
              "      cursor: pointer;\n",
              "      display: none;\n",
              "      fill: #1967D2;\n",
              "      height: 32px;\n",
              "      padding: 0 0 0 0;\n",
              "      width: 32px;\n",
              "    }\n",
              "\n",
              "    .colab-df-convert:hover {\n",
              "      background-color: #E2EBFA;\n",
              "      box-shadow: 0px 1px 2px rgba(60, 64, 67, 0.3), 0px 1px 3px 1px rgba(60, 64, 67, 0.15);\n",
              "      fill: #174EA6;\n",
              "    }\n",
              "\n",
              "    [theme=dark] .colab-df-convert {\n",
              "      background-color: #3B4455;\n",
              "      fill: #D2E3FC;\n",
              "    }\n",
              "\n",
              "    [theme=dark] .colab-df-convert:hover {\n",
              "      background-color: #434B5C;\n",
              "      box-shadow: 0px 1px 3px 1px rgba(0, 0, 0, 0.15);\n",
              "      filter: drop-shadow(0px 1px 2px rgba(0, 0, 0, 0.3));\n",
              "      fill: #FFFFFF;\n",
              "    }\n",
              "  </style>\n",
              "\n",
              "      <script>\n",
              "        const buttonEl =\n",
              "          document.querySelector('#df-56a6fb2e-dd75-4fd3-bb9b-83d008eca4c6 button.colab-df-convert');\n",
              "        buttonEl.style.display =\n",
              "          google.colab.kernel.accessAllowed ? 'block' : 'none';\n",
              "\n",
              "        async function convertToInteractive(key) {\n",
              "          const element = document.querySelector('#df-56a6fb2e-dd75-4fd3-bb9b-83d008eca4c6');\n",
              "          const dataTable =\n",
              "            await google.colab.kernel.invokeFunction('convertToInteractive',\n",
              "                                                     [key], {});\n",
              "          if (!dataTable) return;\n",
              "\n",
              "          const docLinkHtml = 'Like what you see? Visit the ' +\n",
              "            '<a target=\"_blank\" href=https://colab.research.google.com/notebooks/data_table.ipynb>data table notebook</a>'\n",
              "            + ' to learn more about interactive tables.';\n",
              "          element.innerHTML = '';\n",
              "          dataTable['output_type'] = 'display_data';\n",
              "          await google.colab.output.renderOutput(dataTable, element);\n",
              "          const docLink = document.createElement('div');\n",
              "          docLink.innerHTML = docLinkHtml;\n",
              "          element.appendChild(docLink);\n",
              "        }\n",
              "      </script>\n",
              "    </div>\n",
              "  </div>\n",
              "  "
            ]
          },
          "metadata": {},
          "execution_count": 22
        }
      ],
      "source": [
        "# Calculating vif to check for higher vif values\n",
        "vif_df = vif_calc(df[[i for i in df.describe().columns if i not in categorical_variables + ['Email_Status']]])\n",
        "vif_df"
      ]
    },
    {
      "cell_type": "markdown",
      "metadata": {
        "id": "pHzTON6DWgGj"
      },
      "source": [
        "## **Handling Outliers**"
      ]
    },
    {
      "cell_type": "code",
      "execution_count": 23,
      "metadata": {
        "id": "ndIy9Lzicx-n"
      },
      "outputs": [],
      "source": [
        "# Removing unwanted features from Numerical columns list\n",
        "numerical_columns.append(\"Links_Images\")\n",
        "numerical_columns.remove(\"Word_Count\")\n",
        "numerical_columns.remove('Total_Links')\n",
        "numerical_columns.remove('Total_Images')"
      ]
    },
    {
      "cell_type": "code",
      "execution_count": 24,
      "metadata": {
        "colab": {
          "base_uri": "https://localhost:8080/"
        },
        "id": "9_PfWQk-dXQF",
        "outputId": "730457a6-a0a7-4ae0-ab2c-6b8f80ec8514"
      },
      "outputs": [
        {
          "output_type": "stream",
          "name": "stdout",
          "text": [
            "['Total_Past_Communications', 'Subject_Hotness_Score', 'Links_Images']\n"
          ]
        }
      ],
      "source": [
        "print(numerical_columns)"
      ]
    },
    {
      "cell_type": "markdown",
      "metadata": {
        "id": "RvqvqDuIH4K7"
      },
      "source": [
        "## **Handling Outliers**"
      ]
    },
    {
      "cell_type": "code",
      "execution_count": 25,
      "metadata": {
        "colab": {
          "base_uri": "https://localhost:8080/"
        },
        "id": "z5a2VafDXjnb",
        "outputId": "23bbff59-4bd1-4a3f-eef0-195056c2bfb9"
      },
      "outputs": [
        {
          "output_type": "stream",
          "name": "stdout",
          "text": [
            "{'Total_Past_Communications': {1: 56, 0: 67, 2: 13}, 'Subject_Hotness_Score': {0: 170, 1: 76, 2: 1}, 'Links_Images': {0: 3061, 1: 437, 2: 122}}\n"
          ]
        }
      ],
      "source": [
        "# Let's check the number of outliers in different features w.r.t Email_Status\n",
        "outliers = {}\n",
        "for col in numerical_columns:\n",
        "  q_75, q_25 = np.percentile(df.loc[:,col],[75,25])\n",
        "  IQR = q_75-q_25 # Calculate Inter quartile range\n",
        "  max = q_75+(1.5*IQR)\n",
        "  min = q_25-(1.5*IQR)\n",
        "  outlier_list=[]\n",
        "  outlier_list=df.loc[df[col] < min]['Email_Status'].tolist()\n",
        "  outlier_list.append(df.loc[df[col] > max]['Email_Status'].tolist()) \n",
        "  outliers[col]={}\n",
        "  for i in outlier_list[0]:\n",
        "      outliers[col][i] = outliers[col].get(i,0) + 1\n",
        "print(outliers)"
      ]
    },
    {
      "cell_type": "markdown",
      "metadata": {
        "id": "sYD3ZVNhgeoi"
      },
      "source": [
        "### We have calculated the number of outliers with respect to individual classes of Email_Status. The minority class in our target variable is 1 and 2. so before deleting te outliers we should check that we aren't deleting more than 5% of useful information from minority class. Otherwise the model cannot be able to classify the minority classes correctly."
      ]
    },
    {
      "cell_type": "code",
      "execution_count": 26,
      "metadata": {
        "colab": {
          "base_uri": "https://localhost:8080/"
        },
        "id": "pjhatkwEgfPD",
        "outputId": "109c78dd-36e0-4250-f82e-51d085cf7d96"
      },
      "outputs": [
        {
          "output_type": "stream",
          "name": "stdout",
          "text": [
            "The percentage of outliers in minority classes is 5.256486728303012\n",
            "The percentage of outliers in majority class is 6.002803006861907\n",
            "The percentage of total outliers are 5.856363290565154\n"
          ]
        }
      ],
      "source": [
        "# Lets check the percentage of outliers in minority and majority class\n",
        "minority_outliers = 0  \n",
        "majority_outliers = 0\n",
        "# Iterating through each numerical column\n",
        "for col in numerical_columns:\n",
        "  # summing up the number of outliers\n",
        "  minority_outliers += outliers[col][1]\n",
        "  minority_outliers += outliers[col][2]\n",
        "  majority_outliers += outliers[col][0]\n",
        "\n",
        "# Summing up the minority and majority outliers\n",
        "total_minority = df['Email_Status'].value_counts()[1] + df['Email_Status'].value_counts()[2]\n",
        "total_majority = df['Email_Status'].value_counts()[0]\n",
        "\n",
        "min_per = (minority_outliers/total_minority)*100   #number of outliers in minority classes by total number minority classes\n",
        "maj_per = (majority_outliers/total_majority)*100  #number of outliers in majority class by total number of majority class\n",
        "total_out = ((minority_outliers+majority_outliers)/(total_minority+total_majority))*100\n",
        "print(f'The percentage of outliers in minority classes is {min_per}')\n",
        "print(f'The percentage of outliers in majority class is {maj_per}')\n",
        "print(f'The percentage of total outliers are {total_out}')"
      ]
    },
    {
      "cell_type": "code",
      "execution_count": 27,
      "metadata": {
        "id": "TjQi4Wk_inDh"
      },
      "outputs": [],
      "source": [
        "#deleting majority outliers\n",
        "for col in numerical_columns:\n",
        "  q_low = df[col].quantile(0.01) # calculating the value at 0.01 quantile \n",
        "  q_hi  = df[col].quantile(0.99) # calculating the value at 0.01 quantile \n",
        "  df = df.drop(df[(df[col] > q_hi) &  (df['Email_Status']==0)].index) # drop the values which are smaller than the lower limit\n",
        "  df = df.drop(df[(df[col] < q_low) & (df['Email_Status']==0)].index) # drop the values which are larger than the upper limit"
      ]
    },
    {
      "cell_type": "markdown",
      "metadata": {
        "id": "Nyuz8vBYiZRF"
      },
      "source": [
        "### Since we have more than 5% ouliers in minority section. we decide not to delete them."
      ]
    },
    {
      "cell_type": "markdown",
      "metadata": {
        "id": "lthy_aayjxIP"
      },
      "source": [
        "## **Encoding Categorical Variables**"
      ]
    },
    {
      "cell_type": "markdown",
      "metadata": {
        "id": "Dw_FjcDD8IN5"
      },
      "source": [
        "### One Hot Encoding is a process by which categorical variables are converted into a form that could be provided to ML algorithms to do a better job in prediction."
      ]
    },
    {
      "cell_type": "code",
      "execution_count": 28,
      "metadata": {
        "id": "cX13p8DZ-VaI"
      },
      "outputs": [],
      "source": [
        "#Creating a list of categorical features needed for encoding\n",
        "Categorical_features=['Email_Type','Email_Source_Type','Email_Campaign_Type','Time_Email_sent_Category']"
      ]
    },
    {
      "cell_type": "code",
      "execution_count": 29,
      "metadata": {
        "colab": {
          "base_uri": "https://localhost:8080/",
          "height": 145
        },
        "id": "baRLna2--vjx",
        "outputId": "c7310207-0b35-4d3d-8f49-0ee9ac51c849"
      },
      "outputs": [
        {
          "output_type": "execute_result",
          "data": {
            "text/plain": [
              "   Subject_Hotness_Score  Total_Past_Communications  Word_Count  Email_Status  \\\n",
              "0                    2.2                       33.0         440             0   \n",
              "\n",
              "   Links_Images  Email_Type_1  Email_Source_Type_1  Email_Campaign_Type_1  \\\n",
              "0           8.0             1                    0                      0   \n",
              "\n",
              "   Email_Campaign_Type_2  Email_Campaign_Type_3  Time_Email_sent_Category_1  \\\n",
              "0                      1                      0                           1   \n",
              "\n",
              "   Time_Email_sent_Category_2  Time_Email_sent_Category_3  \n",
              "0                           0                           0  "
            ],
            "text/html": [
              "\n",
              "  <div id=\"df-4ecc915f-d5e7-4cfe-a7a6-4996be1166aa\">\n",
              "    <div class=\"colab-df-container\">\n",
              "      <div>\n",
              "<style scoped>\n",
              "    .dataframe tbody tr th:only-of-type {\n",
              "        vertical-align: middle;\n",
              "    }\n",
              "\n",
              "    .dataframe tbody tr th {\n",
              "        vertical-align: top;\n",
              "    }\n",
              "\n",
              "    .dataframe thead th {\n",
              "        text-align: right;\n",
              "    }\n",
              "</style>\n",
              "<table border=\"1\" class=\"dataframe\">\n",
              "  <thead>\n",
              "    <tr style=\"text-align: right;\">\n",
              "      <th></th>\n",
              "      <th>Subject_Hotness_Score</th>\n",
              "      <th>Total_Past_Communications</th>\n",
              "      <th>Word_Count</th>\n",
              "      <th>Email_Status</th>\n",
              "      <th>Links_Images</th>\n",
              "      <th>Email_Type_1</th>\n",
              "      <th>Email_Source_Type_1</th>\n",
              "      <th>Email_Campaign_Type_1</th>\n",
              "      <th>Email_Campaign_Type_2</th>\n",
              "      <th>Email_Campaign_Type_3</th>\n",
              "      <th>Time_Email_sent_Category_1</th>\n",
              "      <th>Time_Email_sent_Category_2</th>\n",
              "      <th>Time_Email_sent_Category_3</th>\n",
              "    </tr>\n",
              "  </thead>\n",
              "  <tbody>\n",
              "    <tr>\n",
              "      <th>0</th>\n",
              "      <td>2.2</td>\n",
              "      <td>33.0</td>\n",
              "      <td>440</td>\n",
              "      <td>0</td>\n",
              "      <td>8.0</td>\n",
              "      <td>1</td>\n",
              "      <td>0</td>\n",
              "      <td>0</td>\n",
              "      <td>1</td>\n",
              "      <td>0</td>\n",
              "      <td>1</td>\n",
              "      <td>0</td>\n",
              "      <td>0</td>\n",
              "    </tr>\n",
              "  </tbody>\n",
              "</table>\n",
              "</div>\n",
              "      <button class=\"colab-df-convert\" onclick=\"convertToInteractive('df-4ecc915f-d5e7-4cfe-a7a6-4996be1166aa')\"\n",
              "              title=\"Convert this dataframe to an interactive table.\"\n",
              "              style=\"display:none;\">\n",
              "        \n",
              "  <svg xmlns=\"http://www.w3.org/2000/svg\" height=\"24px\"viewBox=\"0 0 24 24\"\n",
              "       width=\"24px\">\n",
              "    <path d=\"M0 0h24v24H0V0z\" fill=\"none\"/>\n",
              "    <path d=\"M18.56 5.44l.94 2.06.94-2.06 2.06-.94-2.06-.94-.94-2.06-.94 2.06-2.06.94zm-11 1L8.5 8.5l.94-2.06 2.06-.94-2.06-.94L8.5 2.5l-.94 2.06-2.06.94zm10 10l.94 2.06.94-2.06 2.06-.94-2.06-.94-.94-2.06-.94 2.06-2.06.94z\"/><path d=\"M17.41 7.96l-1.37-1.37c-.4-.4-.92-.59-1.43-.59-.52 0-1.04.2-1.43.59L10.3 9.45l-7.72 7.72c-.78.78-.78 2.05 0 2.83L4 21.41c.39.39.9.59 1.41.59.51 0 1.02-.2 1.41-.59l7.78-7.78 2.81-2.81c.8-.78.8-2.07 0-2.86zM5.41 20L4 18.59l7.72-7.72 1.47 1.35L5.41 20z\"/>\n",
              "  </svg>\n",
              "      </button>\n",
              "      \n",
              "  <style>\n",
              "    .colab-df-container {\n",
              "      display:flex;\n",
              "      flex-wrap:wrap;\n",
              "      gap: 12px;\n",
              "    }\n",
              "\n",
              "    .colab-df-convert {\n",
              "      background-color: #E8F0FE;\n",
              "      border: none;\n",
              "      border-radius: 50%;\n",
              "      cursor: pointer;\n",
              "      display: none;\n",
              "      fill: #1967D2;\n",
              "      height: 32px;\n",
              "      padding: 0 0 0 0;\n",
              "      width: 32px;\n",
              "    }\n",
              "\n",
              "    .colab-df-convert:hover {\n",
              "      background-color: #E2EBFA;\n",
              "      box-shadow: 0px 1px 2px rgba(60, 64, 67, 0.3), 0px 1px 3px 1px rgba(60, 64, 67, 0.15);\n",
              "      fill: #174EA6;\n",
              "    }\n",
              "\n",
              "    [theme=dark] .colab-df-convert {\n",
              "      background-color: #3B4455;\n",
              "      fill: #D2E3FC;\n",
              "    }\n",
              "\n",
              "    [theme=dark] .colab-df-convert:hover {\n",
              "      background-color: #434B5C;\n",
              "      box-shadow: 0px 1px 3px 1px rgba(0, 0, 0, 0.15);\n",
              "      filter: drop-shadow(0px 1px 2px rgba(0, 0, 0, 0.3));\n",
              "      fill: #FFFFFF;\n",
              "    }\n",
              "  </style>\n",
              "\n",
              "      <script>\n",
              "        const buttonEl =\n",
              "          document.querySelector('#df-4ecc915f-d5e7-4cfe-a7a6-4996be1166aa button.colab-df-convert');\n",
              "        buttonEl.style.display =\n",
              "          google.colab.kernel.accessAllowed ? 'block' : 'none';\n",
              "\n",
              "        async function convertToInteractive(key) {\n",
              "          const element = document.querySelector('#df-4ecc915f-d5e7-4cfe-a7a6-4996be1166aa');\n",
              "          const dataTable =\n",
              "            await google.colab.kernel.invokeFunction('convertToInteractive',\n",
              "                                                     [key], {});\n",
              "          if (!dataTable) return;\n",
              "\n",
              "          const docLinkHtml = 'Like what you see? Visit the ' +\n",
              "            '<a target=\"_blank\" href=https://colab.research.google.com/notebooks/data_table.ipynb>data table notebook</a>'\n",
              "            + ' to learn more about interactive tables.';\n",
              "          element.innerHTML = '';\n",
              "          dataTable['output_type'] = 'display_data';\n",
              "          await google.colab.output.renderOutput(dataTable, element);\n",
              "          const docLink = document.createElement('div');\n",
              "          docLink.innerHTML = docLinkHtml;\n",
              "          element.appendChild(docLink);\n",
              "        }\n",
              "      </script>\n",
              "    </div>\n",
              "  </div>\n",
              "  "
            ]
          },
          "metadata": {},
          "execution_count": 29
        }
      ],
      "source": [
        "#creating dummy variables\n",
        "df = pd.get_dummies(df,columns=Categorical_features)\n",
        "# As some columns are binary encoded we can drop either one of the columns\n",
        "df.drop('Email_Type_2',axis=1,inplace=True)\n",
        "df.drop('Email_Source_Type_2',axis=1,inplace=True)\n",
        "df.head(1)"
      ]
    },
    {
      "cell_type": "markdown",
      "metadata": {
        "id": "0EGOLgsYBXbW"
      },
      "source": [
        "## **Data Modelling**"
      ]
    },
    {
      "cell_type": "code",
      "execution_count": 30,
      "metadata": {
        "id": "wD94zDV3W8i8"
      },
      "outputs": [],
      "source": [
        "# Selecting appropriate features for model building\n",
        "selected_features=['Email_Type_1', 'Subject_Hotness_Score', 'Email_Source_Type_1','Email_Campaign_Type_1','Email_Campaign_Type_2','Email_Campaign_Type_3', 'Total_Past_Communications',\n",
        "        'Word_Count','Links_Images','Time_Email_sent_Category_1','Time_Email_sent_Category_2','Time_Email_sent_Category_3']"
      ]
    },
    {
      "cell_type": "code",
      "execution_count": 31,
      "metadata": {
        "id": "jgWrLjDyx6pd"
      },
      "outputs": [],
      "source": [
        "# creating a Dataframe named X for all independent features \n",
        "x=df[selected_features]"
      ]
    },
    {
      "cell_type": "code",
      "execution_count": 32,
      "metadata": {
        "colab": {
          "base_uri": "https://localhost:8080/",
          "height": 270
        },
        "id": "P8vzhQKlyJMT",
        "outputId": "0e322d38-fc63-460b-9427-70e3d559f670"
      },
      "outputs": [
        {
          "output_type": "execute_result",
          "data": {
            "text/plain": [
              "   Email_Type_1  Subject_Hotness_Score  Email_Source_Type_1  \\\n",
              "0             1                    2.2                    0   \n",
              "1             0                    2.1                    1   \n",
              "2             0                    0.1                    1   \n",
              "3             1                    3.0                    0   \n",
              "4             1                    0.0                    0   \n",
              "\n",
              "   Email_Campaign_Type_1  Email_Campaign_Type_2  Email_Campaign_Type_3  \\\n",
              "0                      0                      1                      0   \n",
              "1                      0                      1                      0   \n",
              "2                      0                      0                      1   \n",
              "3                      0                      1                      0   \n",
              "4                      0                      0                      1   \n",
              "\n",
              "   Total_Past_Communications  Word_Count  Links_Images  \\\n",
              "0                       33.0         440           8.0   \n",
              "1                       15.0         504           5.0   \n",
              "2                       36.0         962           5.0   \n",
              "3                       25.0         610          16.0   \n",
              "4                       18.0         947           4.0   \n",
              "\n",
              "   Time_Email_sent_Category_1  Time_Email_sent_Category_2  \\\n",
              "0                           1                           0   \n",
              "1                           0                           1   \n",
              "2                           0                           1   \n",
              "3                           0                           1   \n",
              "4                           0                           1   \n",
              "\n",
              "   Time_Email_sent_Category_3  \n",
              "0                           0  \n",
              "1                           0  \n",
              "2                           0  \n",
              "3                           0  \n",
              "4                           0  "
            ],
            "text/html": [
              "\n",
              "  <div id=\"df-86fb3a4f-4756-4cc3-a96c-dc6533c556cd\">\n",
              "    <div class=\"colab-df-container\">\n",
              "      <div>\n",
              "<style scoped>\n",
              "    .dataframe tbody tr th:only-of-type {\n",
              "        vertical-align: middle;\n",
              "    }\n",
              "\n",
              "    .dataframe tbody tr th {\n",
              "        vertical-align: top;\n",
              "    }\n",
              "\n",
              "    .dataframe thead th {\n",
              "        text-align: right;\n",
              "    }\n",
              "</style>\n",
              "<table border=\"1\" class=\"dataframe\">\n",
              "  <thead>\n",
              "    <tr style=\"text-align: right;\">\n",
              "      <th></th>\n",
              "      <th>Email_Type_1</th>\n",
              "      <th>Subject_Hotness_Score</th>\n",
              "      <th>Email_Source_Type_1</th>\n",
              "      <th>Email_Campaign_Type_1</th>\n",
              "      <th>Email_Campaign_Type_2</th>\n",
              "      <th>Email_Campaign_Type_3</th>\n",
              "      <th>Total_Past_Communications</th>\n",
              "      <th>Word_Count</th>\n",
              "      <th>Links_Images</th>\n",
              "      <th>Time_Email_sent_Category_1</th>\n",
              "      <th>Time_Email_sent_Category_2</th>\n",
              "      <th>Time_Email_sent_Category_3</th>\n",
              "    </tr>\n",
              "  </thead>\n",
              "  <tbody>\n",
              "    <tr>\n",
              "      <th>0</th>\n",
              "      <td>1</td>\n",
              "      <td>2.2</td>\n",
              "      <td>0</td>\n",
              "      <td>0</td>\n",
              "      <td>1</td>\n",
              "      <td>0</td>\n",
              "      <td>33.0</td>\n",
              "      <td>440</td>\n",
              "      <td>8.0</td>\n",
              "      <td>1</td>\n",
              "      <td>0</td>\n",
              "      <td>0</td>\n",
              "    </tr>\n",
              "    <tr>\n",
              "      <th>1</th>\n",
              "      <td>0</td>\n",
              "      <td>2.1</td>\n",
              "      <td>1</td>\n",
              "      <td>0</td>\n",
              "      <td>1</td>\n",
              "      <td>0</td>\n",
              "      <td>15.0</td>\n",
              "      <td>504</td>\n",
              "      <td>5.0</td>\n",
              "      <td>0</td>\n",
              "      <td>1</td>\n",
              "      <td>0</td>\n",
              "    </tr>\n",
              "    <tr>\n",
              "      <th>2</th>\n",
              "      <td>0</td>\n",
              "      <td>0.1</td>\n",
              "      <td>1</td>\n",
              "      <td>0</td>\n",
              "      <td>0</td>\n",
              "      <td>1</td>\n",
              "      <td>36.0</td>\n",
              "      <td>962</td>\n",
              "      <td>5.0</td>\n",
              "      <td>0</td>\n",
              "      <td>1</td>\n",
              "      <td>0</td>\n",
              "    </tr>\n",
              "    <tr>\n",
              "      <th>3</th>\n",
              "      <td>1</td>\n",
              "      <td>3.0</td>\n",
              "      <td>0</td>\n",
              "      <td>0</td>\n",
              "      <td>1</td>\n",
              "      <td>0</td>\n",
              "      <td>25.0</td>\n",
              "      <td>610</td>\n",
              "      <td>16.0</td>\n",
              "      <td>0</td>\n",
              "      <td>1</td>\n",
              "      <td>0</td>\n",
              "    </tr>\n",
              "    <tr>\n",
              "      <th>4</th>\n",
              "      <td>1</td>\n",
              "      <td>0.0</td>\n",
              "      <td>0</td>\n",
              "      <td>0</td>\n",
              "      <td>0</td>\n",
              "      <td>1</td>\n",
              "      <td>18.0</td>\n",
              "      <td>947</td>\n",
              "      <td>4.0</td>\n",
              "      <td>0</td>\n",
              "      <td>1</td>\n",
              "      <td>0</td>\n",
              "    </tr>\n",
              "  </tbody>\n",
              "</table>\n",
              "</div>\n",
              "      <button class=\"colab-df-convert\" onclick=\"convertToInteractive('df-86fb3a4f-4756-4cc3-a96c-dc6533c556cd')\"\n",
              "              title=\"Convert this dataframe to an interactive table.\"\n",
              "              style=\"display:none;\">\n",
              "        \n",
              "  <svg xmlns=\"http://www.w3.org/2000/svg\" height=\"24px\"viewBox=\"0 0 24 24\"\n",
              "       width=\"24px\">\n",
              "    <path d=\"M0 0h24v24H0V0z\" fill=\"none\"/>\n",
              "    <path d=\"M18.56 5.44l.94 2.06.94-2.06 2.06-.94-2.06-.94-.94-2.06-.94 2.06-2.06.94zm-11 1L8.5 8.5l.94-2.06 2.06-.94-2.06-.94L8.5 2.5l-.94 2.06-2.06.94zm10 10l.94 2.06.94-2.06 2.06-.94-2.06-.94-.94-2.06-.94 2.06-2.06.94z\"/><path d=\"M17.41 7.96l-1.37-1.37c-.4-.4-.92-.59-1.43-.59-.52 0-1.04.2-1.43.59L10.3 9.45l-7.72 7.72c-.78.78-.78 2.05 0 2.83L4 21.41c.39.39.9.59 1.41.59.51 0 1.02-.2 1.41-.59l7.78-7.78 2.81-2.81c.8-.78.8-2.07 0-2.86zM5.41 20L4 18.59l7.72-7.72 1.47 1.35L5.41 20z\"/>\n",
              "  </svg>\n",
              "      </button>\n",
              "      \n",
              "  <style>\n",
              "    .colab-df-container {\n",
              "      display:flex;\n",
              "      flex-wrap:wrap;\n",
              "      gap: 12px;\n",
              "    }\n",
              "\n",
              "    .colab-df-convert {\n",
              "      background-color: #E8F0FE;\n",
              "      border: none;\n",
              "      border-radius: 50%;\n",
              "      cursor: pointer;\n",
              "      display: none;\n",
              "      fill: #1967D2;\n",
              "      height: 32px;\n",
              "      padding: 0 0 0 0;\n",
              "      width: 32px;\n",
              "    }\n",
              "\n",
              "    .colab-df-convert:hover {\n",
              "      background-color: #E2EBFA;\n",
              "      box-shadow: 0px 1px 2px rgba(60, 64, 67, 0.3), 0px 1px 3px 1px rgba(60, 64, 67, 0.15);\n",
              "      fill: #174EA6;\n",
              "    }\n",
              "\n",
              "    [theme=dark] .colab-df-convert {\n",
              "      background-color: #3B4455;\n",
              "      fill: #D2E3FC;\n",
              "    }\n",
              "\n",
              "    [theme=dark] .colab-df-convert:hover {\n",
              "      background-color: #434B5C;\n",
              "      box-shadow: 0px 1px 3px 1px rgba(0, 0, 0, 0.15);\n",
              "      filter: drop-shadow(0px 1px 2px rgba(0, 0, 0, 0.3));\n",
              "      fill: #FFFFFF;\n",
              "    }\n",
              "  </style>\n",
              "\n",
              "      <script>\n",
              "        const buttonEl =\n",
              "          document.querySelector('#df-86fb3a4f-4756-4cc3-a96c-dc6533c556cd button.colab-df-convert');\n",
              "        buttonEl.style.display =\n",
              "          google.colab.kernel.accessAllowed ? 'block' : 'none';\n",
              "\n",
              "        async function convertToInteractive(key) {\n",
              "          const element = document.querySelector('#df-86fb3a4f-4756-4cc3-a96c-dc6533c556cd');\n",
              "          const dataTable =\n",
              "            await google.colab.kernel.invokeFunction('convertToInteractive',\n",
              "                                                     [key], {});\n",
              "          if (!dataTable) return;\n",
              "\n",
              "          const docLinkHtml = 'Like what you see? Visit the ' +\n",
              "            '<a target=\"_blank\" href=https://colab.research.google.com/notebooks/data_table.ipynb>data table notebook</a>'\n",
              "            + ' to learn more about interactive tables.';\n",
              "          element.innerHTML = '';\n",
              "          dataTable['output_type'] = 'display_data';\n",
              "          await google.colab.output.renderOutput(dataTable, element);\n",
              "          const docLink = document.createElement('div');\n",
              "          docLink.innerHTML = docLinkHtml;\n",
              "          element.appendChild(docLink);\n",
              "        }\n",
              "      </script>\n",
              "    </div>\n",
              "  </div>\n",
              "  "
            ]
          },
          "metadata": {},
          "execution_count": 32
        }
      ],
      "source": [
        "x.head()"
      ]
    },
    {
      "cell_type": "code",
      "execution_count": 33,
      "metadata": {
        "id": "_cuKsbvtyNII"
      },
      "outputs": [],
      "source": [
        "# Create a dataframe named 'y' for the Targer variable\n",
        "y=df['Email_Status']"
      ]
    },
    {
      "cell_type": "markdown",
      "metadata": {
        "id": "vg9CgvuLVcaG"
      },
      "source": [
        "## **Normalization**"
      ]
    },
    {
      "cell_type": "markdown",
      "metadata": {
        "id": "W_UTUagG9Y0K"
      },
      "source": [
        "### Normalization is a technique often applied as part of data preparation for machine learning. The goal of normalization is to change the values of numeric columns in the dataset to use a common scale, without distorting differences in the ranges of values or losing information. Normalization is also required for some algorithms to model the data correctly."
      ]
    },
    {
      "cell_type": "code",
      "execution_count": 34,
      "metadata": {
        "id": "-a7IT2GVmlkm"
      },
      "outputs": [],
      "source": [
        "# Importing Standardscaler and MinMaxScaler from sklearn library\n",
        "from sklearn.preprocessing import StandardScaler,MinMaxScaler"
      ]
    },
    {
      "cell_type": "code",
      "execution_count": 35,
      "metadata": {
        "id": "izu41_2gmtYs"
      },
      "outputs": [],
      "source": [
        "# Creating an instance of MinMaxScaler\n",
        "sc=StandardScaler()\n",
        "# Applying the MinMaxScaler on X dataframe \n",
        "X=sc.fit_transform(x)"
      ]
    },
    {
      "cell_type": "code",
      "execution_count": 36,
      "metadata": {
        "colab": {
          "base_uri": "https://localhost:8080/",
          "height": 514
        },
        "id": "QbP8n_dxB_sg",
        "outputId": "c34ff049-dc51-4a2c-bb59-f4e436a182f0"
      },
      "outputs": [
        {
          "output_type": "display_data",
          "data": {
            "text/plain": [
              "<Figure size 720x576 with 1 Axes>"
            ],
            "image/png": "[encoded data removed]"
          },
          "metadata": {
            "needs_background": "light"
          }
        }
      ],
      "source": [
        "# Countplot of Email_Status\n",
        "plt.figure(figsize=(10,8)) # define figure size\n",
        "plt.title(\"Count of Email_Status\") # give a title\n",
        "sns.countplot(df['Email_Status'])\n",
        "plt.show()"
      ]
    },
    {
      "cell_type": "code",
      "execution_count": 37,
      "metadata": {
        "colab": {
          "base_uri": "https://localhost:8080/",
          "height": 482
        },
        "id": "tiniEkymRoiq",
        "outputId": "ee44824a-d337-42bc-eabf-deb5d656acb7"
      },
      "outputs": [
        {
          "output_type": "display_data",
          "data": {
            "text/plain": [
              "<Figure size 720x576 with 1 Axes>"
            ],
            "image/png": "[encoded data removed]"
          },
          "metadata": {}
        }
      ],
      "source": [
        "# Pie plot\n",
        "plt.figure(figsize=(10,8)) #define figure size\n",
        "plt.title(\"Percentage of each Email_Status\") # give a title\n",
        "df.groupby('Email_Status')['Email_Status'].count().plot(kind='pie',autopct='%1.0f%%') # Using groupby function and pandas pie plot for visualization\n",
        "plt.show()"
      ]
    },
    {
      "cell_type": "markdown",
      "metadata": {
        "id": "L1Dp_gbRCmw3"
      },
      "source": [
        "### From the above we can see that the number of mails ignored were more than number of mails read and acknowledged.This is called Class imbalance.\n",
        "\n",
        "### In the case of class imbalance classifiers tend to make biased learning model that has a poorer predictive accuracy over the minority classes compared to the majority classes\n",
        "\n",
        "### We can handle class imbalance using Oversampling or Undersampling"
      ]
    },
    {
      "cell_type": "markdown",
      "source": [
        "## **Train-Test Split**"
      ],
      "metadata": {
        "id": "j62hKktm9JlG"
      }
    },
    {
      "cell_type": "code",
      "execution_count": 38,
      "metadata": {
        "id": "4riM4YQkxtAa"
      },
      "outputs": [],
      "source": [
        "#Importing train_test_split from sklearn.model_selection module\n",
        "from sklearn.model_selection import train_test_split"
      ]
    },
    {
      "cell_type": "code",
      "execution_count": 39,
      "metadata": {
        "id": "yXDIE741u-6M"
      },
      "outputs": [],
      "source": [
        "# Splitting the data into x_train,x_test,y_train and y_test \n",
        "x_train,x_test,y_train,y_test=train_test_split(X,y,test_size=0.2,random_state=23,stratify=y) # Stratify argument is used to split the dataset into train and test sets in a way that preserves the same proportions of examples in each class as observed in the original dataset. "
      ]
    },
    {
      "cell_type": "code",
      "source": [
        "x_train.shape"
      ],
      "metadata": {
        "colab": {
          "base_uri": "https://localhost:8080/"
        },
        "id": "X4JqgiPR9T_-",
        "outputId": "1e1900d2-1fa5-44c9-879e-4283a5b72569"
      },
      "execution_count": 40,
      "outputs": [
        {
          "output_type": "execute_result",
          "data": {
            "text/plain": [
              "(53531, 12)"
            ]
          },
          "metadata": {},
          "execution_count": 40
        }
      ]
    },
    {
      "cell_type": "code",
      "source": [
        "x_test.shape"
      ],
      "metadata": {
        "colab": {
          "base_uri": "https://localhost:8080/"
        },
        "id": "jjjUgvJZ9WIv",
        "outputId": "7c331887-a50a-418b-b2eb-a54352224dc3"
      },
      "execution_count": 41,
      "outputs": [
        {
          "output_type": "execute_result",
          "data": {
            "text/plain": [
              "(13383, 12)"
            ]
          },
          "metadata": {},
          "execution_count": 41
        }
      ]
    },
    {
      "cell_type": "markdown",
      "metadata": {
        "id": "mze2d-SYBexF"
      },
      "source": [
        "## **Handling Class Imbalance**"
      ]
    },
    {
      "cell_type": "code",
      "execution_count": 42,
      "metadata": {
        "colab": {
          "base_uri": "https://localhost:8080/"
        },
        "id": "k8aJes3REKxw",
        "outputId": "027a5b51-a0d4-469e-a008-037c1f4969e6"
      },
      "outputs": [
        {
          "output_type": "stream",
          "name": "stdout",
          "text": [
            "Original dataset shape: 53531\n",
            "Resampled dataset shape 5694\n"
          ]
        }
      ],
      "source": [
        "#importing random under sampler from imbalance learn library\n",
        "from imblearn.under_sampling import RandomUnderSampler\n",
        "\n",
        "rus = RandomUnderSampler(random_state=42, replacement=True) #Creating an instance of RandomUnderSampler\n",
        "x_rus,y_rus= rus.fit_resample(x_train,y_train) #Resampling the training data\n",
        "\n",
        "#print shape\n",
        "print('Original dataset shape:', len(y_train))\n",
        "print('Resampled dataset shape', len(y_rus))"
      ]
    },
    {
      "cell_type": "code",
      "execution_count": 43,
      "metadata": {
        "colab": {
          "base_uri": "https://localhost:8080/",
          "height": 514
        },
        "id": "2FgdKotNm_nS",
        "outputId": "d9b672a4-09bf-40c9-cc35-5a4771d2be20"
      },
      "outputs": [
        {
          "output_type": "display_data",
          "data": {
            "text/plain": [
              "<Figure size 720x576 with 1 Axes>"
            ],
            "image/png": "[encoded data removed]"
          },
          "metadata": {
            "needs_background": "light"
          }
        }
      ],
      "source": [
        "# Countplot of Email_Status for resampled data\n",
        "plt.figure(figsize=(10,8)) # define figure size\n",
        "plt.title(\"Count of Email_Status\") # give a title\n",
        "sns.countplot(y_rus)\n",
        "plt.show()"
      ]
    }
  ]
}